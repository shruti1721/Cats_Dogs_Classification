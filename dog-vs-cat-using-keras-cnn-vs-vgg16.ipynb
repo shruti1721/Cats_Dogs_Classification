{
 "cells": [
  {
   "cell_type": "markdown",
   "metadata": {},
   "source": [
    "# Introduction"
   ]
  },
  {
   "cell_type": "markdown",
   "metadata": {},
   "source": [
    "In this notebook i have used self created** CNN** Model and pretrained model **VGG16 **for classifying the Dog vs Cat datasets.\n",
    "First, i used only CNN model with augmentation but this time i didn't get good accuracy and thats why i use pretrained model VGG16 for classifying the dog vs cat dataset."
   ]
  },
  {
   "cell_type": "markdown",
   "metadata": {},
   "source": []
  },
  {
   "cell_type": "markdown",
   "metadata": {},
   "source": [
    "# Import required libraries:"
   ]
  },
  {
   "cell_type": "code",
   "execution_count": 5,
   "metadata": {
    "_kg_hide-output": true,
    "execution": {
     "iopub.execute_input": "2022-08-03T10:14:01.358147Z",
     "iopub.status.busy": "2022-08-03T10:14:01.357721Z",
     "iopub.status.idle": "2022-08-03T10:14:10.217281Z",
     "shell.execute_reply": "2022-08-03T10:14:10.215766Z",
     "shell.execute_reply.started": "2022-08-03T10:14:01.358058Z"
    }
   },
   "outputs": [
    {
     "ename": "ImportError",
     "evalue": "cannot import name 'load_img' from 'keras.preprocessing.image' (c:\\users\\lenovo\\appdata\\local\\programs\\python\\python39\\lib\\site-packages\\keras\\preprocessing\\image.py)",
     "output_type": "error",
     "traceback": [
      "\u001b[1;31m---------------------------------------------------------------------------\u001b[0m",
      "\u001b[1;31mImportError\u001b[0m                               Traceback (most recent call last)",
      "\u001b[1;32m~\\AppData\\Local\\Temp/ipykernel_7492/4007748505.py\u001b[0m in \u001b[0;36m<module>\u001b[1;34m\u001b[0m\n\u001b[0;32m      1\u001b[0m \u001b[1;32mimport\u001b[0m \u001b[0mnumpy\u001b[0m \u001b[1;32mas\u001b[0m \u001b[0mnp\u001b[0m\u001b[1;33m\u001b[0m\u001b[1;33m\u001b[0m\u001b[0m\n\u001b[0;32m      2\u001b[0m \u001b[1;32mimport\u001b[0m \u001b[0mpandas\u001b[0m \u001b[1;32mas\u001b[0m \u001b[0mpd\u001b[0m\u001b[1;33m\u001b[0m\u001b[1;33m\u001b[0m\u001b[0m\n\u001b[1;32m----> 3\u001b[1;33m \u001b[1;32mfrom\u001b[0m \u001b[0mkeras\u001b[0m\u001b[1;33m.\u001b[0m\u001b[0mpreprocessing\u001b[0m\u001b[1;33m.\u001b[0m\u001b[0mimage\u001b[0m \u001b[1;32mimport\u001b[0m \u001b[0mImageDataGenerator\u001b[0m\u001b[1;33m,\u001b[0m \u001b[0mload_img\u001b[0m\u001b[1;33m\u001b[0m\u001b[1;33m\u001b[0m\u001b[0m\n\u001b[0m\u001b[0;32m      4\u001b[0m \u001b[1;32mfrom\u001b[0m \u001b[0mtensorflow\u001b[0m\u001b[1;33m.\u001b[0m\u001b[0mkeras\u001b[0m\u001b[1;33m.\u001b[0m\u001b[0mutils\u001b[0m \u001b[1;32mimport\u001b[0m \u001b[0mto_categorical\u001b[0m\u001b[1;33m\u001b[0m\u001b[1;33m\u001b[0m\u001b[0m\n\u001b[0;32m      5\u001b[0m \u001b[1;32mfrom\u001b[0m \u001b[0msklearn\u001b[0m\u001b[1;33m.\u001b[0m\u001b[0mmodel_selection\u001b[0m \u001b[1;32mimport\u001b[0m \u001b[0mtrain_test_split\u001b[0m\u001b[1;33m\u001b[0m\u001b[1;33m\u001b[0m\u001b[0m\n",
      "\u001b[1;31mImportError\u001b[0m: cannot import name 'load_img' from 'keras.preprocessing.image' (c:\\users\\lenovo\\appdata\\local\\programs\\python\\python39\\lib\\site-packages\\keras\\preprocessing\\image.py)"
     ]
    }
   ],
   "source": [
    "import numpy as np\n",
    "import pandas as pd \n",
    "from keras.preprocessing.image import ImageDataGenerator, load_img\n",
    "from tensorflow.keras.utils import to_categorical\n",
    "from sklearn.model_selection import train_test_split\n",
    "import matplotlib.pyplot as plt\n",
    "import random\n",
    "import os\n",
    "for dirname, _, filenames in os.walk('//input'):\n",
    "    for filename in filenames:\n",
    "        print(os.path.join(dirname, filename))"
   ]
  },
  {
   "cell_type": "markdown",
   "metadata": {},
   "source": [
    "# Data Collecting and Precossing"
   ]
  },
  {
   "cell_type": "code",
   "execution_count": 2,
   "metadata": {
    "execution": {
     "iopub.execute_input": "2022-08-03T10:14:10.221221Z",
     "iopub.status.busy": "2022-08-03T10:14:10.220504Z",
     "iopub.status.idle": "2022-08-03T10:14:10.237834Z",
     "shell.execute_reply": "2022-08-03T10:14:10.229009Z",
     "shell.execute_reply.started": "2022-08-03T10:14:10.221179Z"
    }
   },
   "outputs": [
    {
     "ename": "NameError",
     "evalue": "name 'os' is not defined",
     "output_type": "error",
     "traceback": [
      "\u001b[1;31m---------------------------------------------------------------------------\u001b[0m",
      "\u001b[1;31mNameError\u001b[0m                                 Traceback (most recent call last)",
      "\u001b[1;32m~\\AppData\\Local\\Temp/ipykernel_7492/908875533.py\u001b[0m in \u001b[0;36m<module>\u001b[1;34m\u001b[0m\n\u001b[1;32m----> 1\u001b[1;33m \u001b[0mprint\u001b[0m\u001b[1;33m(\u001b[0m\u001b[0mos\u001b[0m\u001b[1;33m.\u001b[0m\u001b[0mlistdir\u001b[0m\u001b[1;33m(\u001b[0m\u001b[1;34m\"../input/dogs-vs-cats\"\u001b[0m\u001b[1;33m)\u001b[0m\u001b[1;33m)\u001b[0m\u001b[1;33m\u001b[0m\u001b[1;33m\u001b[0m\u001b[0m\n\u001b[0m",
      "\u001b[1;31mNameError\u001b[0m: name 'os' is not defined"
     ]
    }
   ],
   "source": [
    "print(os.listdir(\"../input/dogs-vs-cats\"))"
   ]
  },
  {
   "cell_type": "code",
   "execution_count": null,
   "metadata": {
    "_kg_hide-output": true,
    "execution": {
     "iopub.execute_input": "2022-08-03T10:14:10.241809Z",
     "iopub.status.busy": "2022-08-03T10:14:10.240530Z",
     "iopub.status.idle": "2022-08-03T10:14:36.742060Z",
     "shell.execute_reply": "2022-08-03T10:14:36.739865Z",
     "shell.execute_reply.started": "2022-08-03T10:14:10.241770Z"
    }
   },
   "outputs": [],
   "source": [
    "! unzip  ../input/dogs-vs-cats/train.zip\n",
    "! unzip  ../input/dogs-vs-cats/test1.zip"
   ]
  },
  {
   "cell_type": "markdown",
   "metadata": {},
   "source": [
    "# Image into pandas Dataframe"
   ]
  },
  {
   "cell_type": "code",
   "execution_count": null,
   "metadata": {
    "execution": {
     "iopub.execute_input": "2022-08-03T10:14:36.753050Z",
     "iopub.status.busy": "2022-08-03T10:14:36.752432Z",
     "iopub.status.idle": "2022-08-03T10:14:36.925075Z",
     "shell.execute_reply": "2022-08-03T10:14:36.922013Z",
     "shell.execute_reply.started": "2022-08-03T10:14:36.752972Z"
    }
   },
   "outputs": [],
   "source": [
    "filenames= os.listdir(\"./train\")\n",
    "\n",
    "categories=[]\n",
    "\n",
    "for filename in filenames:\n",
    "    \n",
    "    category=filename.split(\".\")[0]\n",
    "    if category==\"dog\":\n",
    "        categories.append(1)\n",
    "    else:   \n",
    "       categories.append(0)\n",
    "        \n",
    "        \n",
    "df=pd.DataFrame({'filename':filenames,\n",
    "                  'category':categories\n",
    "                })    "
   ]
  },
  {
   "cell_type": "markdown",
   "metadata": {},
   "source": []
  },
  {
   "cell_type": "code",
   "execution_count": null,
   "metadata": {
    "_kg_hide-output": true,
    "execution": {
     "iopub.execute_input": "2022-08-03T10:14:36.928549Z",
     "iopub.status.busy": "2022-08-03T10:14:36.927925Z",
     "iopub.status.idle": "2022-08-03T10:14:37.560082Z",
     "shell.execute_reply": "2022-08-03T10:14:37.558170Z",
     "shell.execute_reply.started": "2022-08-03T10:14:36.928488Z"
    }
   },
   "outputs": [],
   "source": [
    "df.head()"
   ]
  },
  {
   "cell_type": "code",
   "execution_count": null,
   "metadata": {
    "execution": {
     "iopub.execute_input": "2022-08-03T10:14:37.563680Z",
     "iopub.status.busy": "2022-08-03T10:14:37.562768Z",
     "iopub.status.idle": "2022-08-03T10:14:37.586937Z",
     "shell.execute_reply": "2022-08-03T10:14:37.581299Z",
     "shell.execute_reply.started": "2022-08-03T10:14:37.563634Z"
    }
   },
   "outputs": [],
   "source": [
    "df.shape"
   ]
  },
  {
   "cell_type": "code",
   "execution_count": null,
   "metadata": {
    "execution": {
     "iopub.execute_input": "2022-08-03T10:14:37.596000Z",
     "iopub.status.busy": "2022-08-03T10:14:37.592126Z",
     "iopub.status.idle": "2022-08-03T10:14:37.675069Z",
     "shell.execute_reply": "2022-08-03T10:14:37.667517Z",
     "shell.execute_reply.started": "2022-08-03T10:14:37.595903Z"
    }
   },
   "outputs": [],
   "source": [
    "df['category'].value_counts()"
   ]
  },
  {
   "cell_type": "code",
   "execution_count": null,
   "metadata": {
    "execution": {
     "iopub.execute_input": "2022-08-03T10:14:37.697440Z",
     "iopub.status.busy": "2022-08-03T10:14:37.684619Z",
     "iopub.status.idle": "2022-08-03T10:14:38.283788Z",
     "shell.execute_reply": "2022-08-03T10:14:38.281810Z",
     "shell.execute_reply.started": "2022-08-03T10:14:37.697361Z"
    }
   },
   "outputs": [],
   "source": [
    "df['category'].value_counts().plot(kind='bar')"
   ]
  },
  {
   "cell_type": "code",
   "execution_count": null,
   "metadata": {
    "execution": {
     "iopub.execute_input": "2022-08-03T10:14:38.287171Z",
     "iopub.status.busy": "2022-08-03T10:14:38.286367Z",
     "iopub.status.idle": "2022-08-03T10:14:38.843622Z",
     "shell.execute_reply": "2022-08-03T10:14:38.841854Z",
     "shell.execute_reply.started": "2022-08-03T10:14:38.287112Z"
    }
   },
   "outputs": [],
   "source": [
    "random_Img=random.choice(filenames)\n",
    "image=load_img(\"./train/\"+random_Img)\n",
    "plt.imshow(image)"
   ]
  },
  {
   "cell_type": "markdown",
   "metadata": {},
   "source": [
    "# Using Convolution Neural Network"
   ]
  },
  {
   "cell_type": "markdown",
   "metadata": {},
   "source": [
    "This self made convulotion neural network . First i trained this model with train data set and the validate .Observe the accuracy"
   ]
  },
  {
   "cell_type": "code",
   "execution_count": null,
   "metadata": {
    "_kg_hide-output": true,
    "execution": {
     "iopub.execute_input": "2022-08-03T10:14:38.852034Z",
     "iopub.status.busy": "2022-08-03T10:14:38.850683Z",
     "iopub.status.idle": "2022-08-03T10:14:43.144279Z",
     "shell.execute_reply": "2022-08-03T10:14:43.143027Z",
     "shell.execute_reply.started": "2022-08-03T10:14:38.851988Z"
    }
   },
   "outputs": [],
   "source": [
    "from keras.models import Sequential\n",
    "from keras.layers import Conv2D, MaxPooling2D, Dropout, Flatten, Dense, Activation, BatchNormalization\n",
    "\n",
    "model1 = Sequential()\n",
    "\n",
    "model1.add(Conv2D(128, (3, 3), activation='relu', input_shape=(128,128,3)))\n",
    "model1.add(BatchNormalization())\n",
    "model1.add(MaxPooling2D(pool_size=(2, 2)))\n",
    "model1.add(Dropout(0.25))\n",
    "\n",
    "model1.add(Conv2D(64, (3, 3), activation='relu'))\n",
    "model1.add(BatchNormalization())\n",
    "model1.add(MaxPooling2D(pool_size=(2, 2)))\n",
    "model1.add(Dropout(0.25))\n",
    "\n",
    "model1.add(Conv2D(64, (3, 3), activation='relu'))\n",
    "model1.add(BatchNormalization())\n",
    "model1.add(MaxPooling2D(pool_size=(2, 2)))\n",
    "model1.add(Dropout(0.25))\n",
    "\n",
    "model1.add(Flatten())\n",
    "model1.add(Dense(512, activation='relu'))\n",
    "model1.add(BatchNormalization())\n",
    "model1.add(Dropout(0.2))\n",
    "model1.add(Dense(2, activation='softmax')) # 2 because we have cat and dog classes\n",
    "\n",
    "model1.compile(loss='categorical_crossentropy', optimizer='adam', metrics=['accuracy'])"
   ]
  },
  {
   "cell_type": "markdown",
   "metadata": {},
   "source": [
    "# Preparing data for model1"
   ]
  },
  {
   "cell_type": "code",
   "execution_count": null,
   "metadata": {
    "execution": {
     "iopub.execute_input": "2022-08-03T10:14:43.147859Z",
     "iopub.status.busy": "2022-08-03T10:14:43.147134Z",
     "iopub.status.idle": "2022-08-03T10:14:43.159543Z",
     "shell.execute_reply": "2022-08-03T10:14:43.158029Z",
     "shell.execute_reply.started": "2022-08-03T10:14:43.147816Z"
    }
   },
   "outputs": [],
   "source": [
    "df['category']=df[\"category\"].replace({0:'cat',1:'dog'})"
   ]
  },
  {
   "cell_type": "markdown",
   "metadata": {},
   "source": [
    "# Split data in train and validation"
   ]
  },
  {
   "cell_type": "code",
   "execution_count": null,
   "metadata": {
    "execution": {
     "iopub.execute_input": "2022-08-03T10:14:43.162904Z",
     "iopub.status.busy": "2022-08-03T10:14:43.162434Z",
     "iopub.status.idle": "2022-08-03T10:14:43.181714Z",
     "shell.execute_reply": "2022-08-03T10:14:43.179718Z",
     "shell.execute_reply.started": "2022-08-03T10:14:43.162840Z"
    }
   },
   "outputs": [],
   "source": [
    "train_df,validate_df=train_test_split(df,test_size=.20,random_state=4)\n",
    "train_df=train_df.reset_index(drop=True)\n",
    "validate_df=validate_df.reset_index(drop=True)"
   ]
  },
  {
   "cell_type": "code",
   "execution_count": null,
   "metadata": {
    "execution": {
     "iopub.execute_input": "2022-08-03T10:14:43.184982Z",
     "iopub.status.busy": "2022-08-03T10:14:43.184101Z",
     "iopub.status.idle": "2022-08-03T10:14:43.191577Z",
     "shell.execute_reply": "2022-08-03T10:14:43.189907Z",
     "shell.execute_reply.started": "2022-08-03T10:14:43.184915Z"
    }
   },
   "outputs": [],
   "source": [
    "total_train=train_df.shape[0]\n",
    "total_validate=validate_df.shape[0]\n",
    "batch_size=16"
   ]
  },
  {
   "cell_type": "code",
   "execution_count": null,
   "metadata": {
    "execution": {
     "iopub.execute_input": "2022-08-03T10:14:43.194737Z",
     "iopub.status.busy": "2022-08-03T10:14:43.194137Z",
     "iopub.status.idle": "2022-08-03T10:14:43.206327Z",
     "shell.execute_reply": "2022-08-03T10:14:43.204522Z",
     "shell.execute_reply.started": "2022-08-03T10:14:43.194696Z"
    }
   },
   "outputs": [],
   "source": [
    "total_validate"
   ]
  },
  {
   "cell_type": "markdown",
   "metadata": {},
   "source": [
    "# Augmentation and prepare images for our model1"
   ]
  },
  {
   "cell_type": "markdown",
   "metadata": {},
   "source": [
    "1. What do you mean by data augmentation?\n",
    "* Image result for augmentation in dl\n",
    "Data augmentation in data analysis are techniques used to increase the amount of data by adding slightly modified copies of already existing data or newly created synthetic data from existing data. It acts as a regularizer and helps reduce overfitting when training a machine learning model.\n"
   ]
  },
  {
   "cell_type": "markdown",
   "metadata": {},
   "source": [
    "2. How basic dataset augmentation works\n",
    "* Flipping (both vertically and horizontally)\n",
    "* Rotating.\n",
    "* Zooming and scaling.\n",
    "* Cropping.\n",
    "* Translating (moving along the x or y axis)\n",
    "* Adding Gaussian noise (distortion of high frequency features)\n"
   ]
  },
  {
   "cell_type": "code",
   "execution_count": null,
   "metadata": {
    "execution": {
     "iopub.execute_input": "2022-08-03T10:14:43.209813Z",
     "iopub.status.busy": "2022-08-03T10:14:43.209163Z",
     "iopub.status.idle": "2022-08-03T10:14:43.444704Z",
     "shell.execute_reply": "2022-08-03T10:14:43.443216Z",
     "shell.execute_reply.started": "2022-08-03T10:14:43.209755Z"
    }
   },
   "outputs": [],
   "source": [
    "train_datagen=ImageDataGenerator(\n",
    "    rotation_range=30,\n",
    "    rescale=1./255,\n",
    "    shear_range=0.4,\n",
    "    zoom_range=0.4,\n",
    "    horizontal_flip=True,\n",
    "    width_shift_range=0.4,\n",
    "    height_shift_range=0.4\n",
    ")\n",
    "\n",
    "train_generator=train_datagen.flow_from_dataframe(\n",
    "    \n",
    "    train_df,\n",
    "    \"./train\",\n",
    "    x_col='filename',\n",
    "    y_col='category',\n",
    "    target_size=(128,128),\n",
    "    class_mode='categorical',\n",
    "    batch_size=batch_size\n",
    "    \n",
    ")"
   ]
  },
  {
   "cell_type": "markdown",
   "metadata": {},
   "source": [
    "* ****No need not apply augmentation in validation datasets"
   ]
  },
  {
   "cell_type": "code",
   "execution_count": null,
   "metadata": {
    "execution": {
     "iopub.execute_input": "2022-08-03T10:14:43.448458Z",
     "iopub.status.busy": "2022-08-03T10:14:43.447070Z",
     "iopub.status.idle": "2022-08-03T10:14:43.518836Z",
     "shell.execute_reply": "2022-08-03T10:14:43.517510Z",
     "shell.execute_reply.started": "2022-08-03T10:14:43.448416Z"
    }
   },
   "outputs": [],
   "source": [
    "validate_datagen=ImageDataGenerator(\n",
    "    rescale=1./255\n",
    ")\n",
    "\n",
    "validate_generator=validate_datagen.flow_from_dataframe(\n",
    "    validate_df,\n",
    "    \"./train\",\n",
    "    x_col='filename',\n",
    "    y_col='category',\n",
    "    target_size=(128,128),\n",
    "    class_mode='categorical',\n",
    "    batch_size=batch_size\n",
    "    \n",
    ")"
   ]
  },
  {
   "cell_type": "markdown",
   "metadata": {},
   "source": [
    "# Callbacks:"
   ]
  },
  {
   "cell_type": "markdown",
   "metadata": {},
   "source": [
    "* What are callbacks in ML?\n",
    "* A callback is a set of functions to be applied at given stages of the training procedure. You can use callbacks to get a view on internal states and statistics of the model during training"
   ]
  },
  {
   "cell_type": "code",
   "execution_count": null,
   "metadata": {
    "execution": {
     "iopub.execute_input": "2022-08-03T10:14:43.521156Z",
     "iopub.status.busy": "2022-08-03T10:14:43.520709Z",
     "iopub.status.idle": "2022-08-03T10:14:43.527560Z",
     "shell.execute_reply": "2022-08-03T10:14:43.525929Z",
     "shell.execute_reply.started": "2022-08-03T10:14:43.521118Z"
    }
   },
   "outputs": [],
   "source": [
    "from keras.callbacks import EarlyStopping, ReduceLROnPlateau"
   ]
  },
  {
   "cell_type": "markdown",
   "metadata": {},
   "source": []
  },
  {
   "cell_type": "code",
   "execution_count": null,
   "metadata": {
    "execution": {
     "iopub.execute_input": "2022-08-03T10:14:43.530789Z",
     "iopub.status.busy": "2022-08-03T10:14:43.529763Z",
     "iopub.status.idle": "2022-08-03T10:14:43.547614Z",
     "shell.execute_reply": "2022-08-03T10:14:43.546163Z",
     "shell.execute_reply.started": "2022-08-03T10:14:43.530734Z"
    }
   },
   "outputs": [],
   "source": [
    "\n",
    "earlystop = EarlyStopping(patience=10)\n",
    "learning_rate_reduction = ReduceLROnPlateau(monitor='val_acc', \n",
    "                                            patience=2, \n",
    "                                            verbose=1, \n",
    "                                            factor=0.5, \n",
    "                                            min_lr=0.00001)\n",
    "callbacks = [earlystop, learning_rate_reduction]"
   ]
  },
  {
   "cell_type": "markdown",
   "metadata": {},
   "source": [
    "# Train and lets see the accuracy rate our model1"
   ]
  },
  {
   "cell_type": "code",
   "execution_count": null,
   "metadata": {
    "_kg_hide-output": true,
    "execution": {
     "iopub.execute_input": "2022-08-03T10:14:43.550758Z",
     "iopub.status.busy": "2022-08-03T10:14:43.550108Z",
     "iopub.status.idle": "2022-08-03T10:41:33.256013Z",
     "shell.execute_reply": "2022-08-03T10:41:33.254735Z",
     "shell.execute_reply.started": "2022-08-03T10:14:43.550719Z"
    }
   },
   "outputs": [],
   "source": [
    "history1=model1.fit_generator(\n",
    "    train_generator,\n",
    "    steps_per_epoch=total_train//batch_size, \n",
    "    epochs=10, \n",
    "    verbose=1,\n",
    "    callbacks=callbacks, \n",
    "    validation_data=validate_generator,\n",
    "    validation_steps=total_validate//batch_size,\n",
    "    \n",
    "\n",
    "    \n",
    ")"
   ]
  },
  {
   "cell_type": "markdown",
   "metadata": {},
   "source": [
    "It is observed that the train and validation accuracy not satisfying.\n",
    "\n"
   ]
  },
  {
   "cell_type": "code",
   "execution_count": null,
   "metadata": {},
   "outputs": [],
   "source": []
  },
  {
   "cell_type": "markdown",
   "metadata": {},
   "source": [
    "# Let's try pretrained model:"
   ]
  },
  {
   "cell_type": "markdown",
   "metadata": {},
   "source": [
    "# Importing libraries for pretrained model"
   ]
  },
  {
   "cell_type": "code",
   "execution_count": null,
   "metadata": {
    "execution": {
     "iopub.execute_input": "2022-08-03T10:41:33.259297Z",
     "iopub.status.busy": "2022-08-03T10:41:33.258168Z",
     "iopub.status.idle": "2022-08-03T10:41:33.269402Z",
     "shell.execute_reply": "2022-08-03T10:41:33.267518Z",
     "shell.execute_reply.started": "2022-08-03T10:41:33.259234Z"
    }
   },
   "outputs": [],
   "source": [
    "from tensorflow.keras.applications import VGG16\n",
    "from keras.models import Model\n",
    "from keras.layers import Dense,Dropout\n",
    "from keras.backend import pool2d\n",
    "from keras.layers.pooling import GlobalAveragePooling2D\n",
    "\n"
   ]
  },
  {
   "cell_type": "markdown",
   "metadata": {},
   "source": [
    "# Pretrained model vGG16"
   ]
  },
  {
   "cell_type": "markdown",
   "metadata": {},
   "source": [
    "* What is a pre-trained model?\n",
    "* \n",
    "A pre-trained model is a saved network that was previously trained on a large dataset, typically on a large-scale image-classification task. You either use the pretrained model as is or use transfer learning to customize this model to a given task."
   ]
  },
  {
   "cell_type": "code",
   "execution_count": null,
   "metadata": {
    "_kg_hide-output": true,
    "execution": {
     "iopub.execute_input": "2022-08-03T10:41:33.272702Z",
     "iopub.status.busy": "2022-08-03T10:41:33.271614Z",
     "iopub.status.idle": "2022-08-03T10:41:35.226693Z",
     "shell.execute_reply": "2022-08-03T10:41:35.225389Z",
     "shell.execute_reply.started": "2022-08-03T10:41:33.272659Z"
    }
   },
   "outputs": [],
   "source": [
    "base_model = VGG16(input_shape = (128, 128, 3), # Shape of our images\n",
    "include_top = False, # Leave out the last fully connected layer\n",
    "weights = 'imagenet')"
   ]
  },
  {
   "cell_type": "markdown",
   "metadata": {},
   "source": [
    "We dont need to trained above layers because this layers are pretrained "
   ]
  },
  {
   "cell_type": "code",
   "execution_count": null,
   "metadata": {
    "execution": {
     "iopub.execute_input": "2022-08-03T10:41:35.228992Z",
     "iopub.status.busy": "2022-08-03T10:41:35.228587Z",
     "iopub.status.idle": "2022-08-03T10:41:35.235527Z",
     "shell.execute_reply": "2022-08-03T10:41:35.234031Z",
     "shell.execute_reply.started": "2022-08-03T10:41:35.228937Z"
    }
   },
   "outputs": [],
   "source": [
    "base_model.trainable=False"
   ]
  },
  {
   "cell_type": "markdown",
   "metadata": {},
   "source": [
    "# Adding top_layer"
   ]
  },
  {
   "cell_type": "markdown",
   "metadata": {},
   "source": [
    "Only this layers will be trained "
   ]
  },
  {
   "cell_type": "code",
   "execution_count": null,
   "metadata": {
    "execution": {
     "iopub.execute_input": "2022-08-03T10:41:35.238812Z",
     "iopub.status.busy": "2022-08-03T10:41:35.237548Z",
     "iopub.status.idle": "2022-08-03T10:41:35.297997Z",
     "shell.execute_reply": "2022-08-03T10:41:35.296579Z",
     "shell.execute_reply.started": "2022-08-03T10:41:35.238736Z"
    }
   },
   "outputs": [],
   "source": [
    "\n",
    "model=base_model.output\n",
    "\n",
    "model=Dense(512, activation='relu')(model)\n",
    "model= GlobalAveragePooling2D()(model)\n",
    "model=Dropout(rate=0.5)(model)\n",
    "model=Dense(2, activation='softmax')(model)\n",
    "model=Model(inputs=base_model.inputs, outputs=model)\n"
   ]
  },
  {
   "cell_type": "markdown",
   "metadata": {},
   "source": [
    "# Compiling the model"
   ]
  },
  {
   "cell_type": "code",
   "execution_count": null,
   "metadata": {
    "execution": {
     "iopub.execute_input": "2022-08-03T10:41:35.301334Z",
     "iopub.status.busy": "2022-08-03T10:41:35.300415Z",
     "iopub.status.idle": "2022-08-03T10:41:35.313742Z",
     "shell.execute_reply": "2022-08-03T10:41:35.312182Z",
     "shell.execute_reply.started": "2022-08-03T10:41:35.301277Z"
    }
   },
   "outputs": [],
   "source": [
    "model.compile(loss='categorical_crossentropy', optimizer='adam', metrics=['accuracy'])"
   ]
  },
  {
   "cell_type": "code",
   "execution_count": null,
   "metadata": {
    "_kg_hide-output": true,
    "execution": {
     "iopub.execute_input": "2022-08-03T10:41:35.316559Z",
     "iopub.status.busy": "2022-08-03T10:41:35.315898Z",
     "iopub.status.idle": "2022-08-03T10:41:35.331340Z",
     "shell.execute_reply": "2022-08-03T10:41:35.329780Z",
     "shell.execute_reply.started": "2022-08-03T10:41:35.316518Z"
    }
   },
   "outputs": [],
   "source": [
    "model.summary()"
   ]
  },
  {
   "cell_type": "code",
   "execution_count": null,
   "metadata": {
    "execution": {
     "iopub.execute_input": "2022-08-03T10:41:35.334596Z",
     "iopub.status.busy": "2022-08-03T10:41:35.334048Z",
     "iopub.status.idle": "2022-08-03T10:41:35.579892Z",
     "shell.execute_reply": "2022-08-03T10:41:35.578461Z",
     "shell.execute_reply.started": "2022-08-03T10:41:35.334554Z"
    }
   },
   "outputs": [],
   "source": [
    "from sklearn.model_selection import train_test_split\n",
    "from tqdm import tqdm\n",
    "import cv2\n",
    "from sklearn.utils import shuffle"
   ]
  },
  {
   "cell_type": "code",
   "execution_count": null,
   "metadata": {
    "execution": {
     "iopub.execute_input": "2022-08-03T10:41:35.583433Z",
     "iopub.status.busy": "2022-08-03T10:41:35.582559Z",
     "iopub.status.idle": "2022-08-03T10:41:35.600661Z",
     "shell.execute_reply": "2022-08-03T10:41:35.598881Z",
     "shell.execute_reply.started": "2022-08-03T10:41:35.583386Z"
    }
   },
   "outputs": [],
   "source": [
    "df[\"category\"] = df[\"category\"].replace({0: 'cat', 1: 'dog'})"
   ]
  },
  {
   "cell_type": "markdown",
   "metadata": {},
   "source": [
    "# Split the dataset"
   ]
  },
  {
   "cell_type": "code",
   "execution_count": null,
   "metadata": {
    "execution": {
     "iopub.execute_input": "2022-08-03T10:41:35.610728Z",
     "iopub.status.busy": "2022-08-03T10:41:35.609556Z",
     "iopub.status.idle": "2022-08-03T10:41:35.623507Z",
     "shell.execute_reply": "2022-08-03T10:41:35.622050Z",
     "shell.execute_reply.started": "2022-08-03T10:41:35.610686Z"
    }
   },
   "outputs": [],
   "source": [
    "train_df, validate_df = train_test_split(df, test_size=0.20, random_state=42)\n",
    "train_df = train_df.reset_index(drop=True)\n",
    "validate_df = validate_df.reset_index(drop=True)"
   ]
  },
  {
   "cell_type": "code",
   "execution_count": null,
   "metadata": {
    "execution": {
     "iopub.execute_input": "2022-08-03T10:41:35.626527Z",
     "iopub.status.busy": "2022-08-03T10:41:35.625926Z",
     "iopub.status.idle": "2022-08-03T10:41:35.634429Z",
     "shell.execute_reply": "2022-08-03T10:41:35.633017Z",
     "shell.execute_reply.started": "2022-08-03T10:41:35.626485Z"
    }
   },
   "outputs": [],
   "source": [
    "total_train = train_df.shape[0]\n",
    "total_validate = validate_df.shape[0]\n",
    "batch_size=4"
   ]
  },
  {
   "cell_type": "markdown",
   "metadata": {},
   "source": [
    "# Preparing data for fed the model"
   ]
  },
  {
   "cell_type": "code",
   "execution_count": null,
   "metadata": {
    "execution": {
     "iopub.execute_input": "2022-08-03T10:41:35.637914Z",
     "iopub.status.busy": "2022-08-03T10:41:35.636381Z",
     "iopub.status.idle": "2022-08-03T10:41:35.871086Z",
     "shell.execute_reply": "2022-08-03T10:41:35.868774Z",
     "shell.execute_reply.started": "2022-08-03T10:41:35.637827Z"
    }
   },
   "outputs": [],
   "source": [
    "train_datagen=ImageDataGenerator(\n",
    "    rescale=1/255\n",
    ")\n",
    "\n",
    "\n",
    "train_generator=train_datagen.flow_from_dataframe(train_df,\n",
    "                                                      './train',\n",
    "                                                      x_col='filename', \n",
    "                                                      y_col='category',\n",
    "                                                      weight_col=None,\n",
    "                                                      target_size=(128, 128),\n",
    "                                                      class_mode='categorical', \n",
    "                                                      batch_size=batch_size,\n",
    "                                                      \n",
    "                                                      \n",
    "                                                     )\n",
    "                                                 \n",
    "                                                 "
   ]
  },
  {
   "cell_type": "code",
   "execution_count": null,
   "metadata": {
    "execution": {
     "iopub.execute_input": "2022-08-03T10:41:35.875208Z",
     "iopub.status.busy": "2022-08-03T10:41:35.873764Z",
     "iopub.status.idle": "2022-08-03T10:41:35.943101Z",
     "shell.execute_reply": "2022-08-03T10:41:35.941496Z",
     "shell.execute_reply.started": "2022-08-03T10:41:35.875136Z"
    }
   },
   "outputs": [],
   "source": [
    "validation_datagen = ImageDataGenerator(rescale=1./255)\n",
    "validation_generator = validation_datagen.flow_from_dataframe(\n",
    "    validate_df, \n",
    "    \"./train\", \n",
    "    x_col='filename',\n",
    "    y_col='category',\n",
    "    target_size=(128,128),\n",
    "    class_mode='categorical',\n",
    "    batch_size=batch_size\n",
    ")"
   ]
  },
  {
   "cell_type": "code",
   "execution_count": null,
   "metadata": {
    "execution": {
     "iopub.execute_input": "2022-08-03T10:41:35.945868Z",
     "iopub.status.busy": "2022-08-03T10:41:35.945305Z",
     "iopub.status.idle": "2022-08-03T10:41:35.952868Z",
     "shell.execute_reply": "2022-08-03T10:41:35.951334Z",
     "shell.execute_reply.started": "2022-08-03T10:41:35.945812Z"
    }
   },
   "outputs": [],
   "source": [
    "from keras.callbacks import EarlyStopping, ReduceLROnPlateau"
   ]
  },
  {
   "cell_type": "markdown",
   "metadata": {},
   "source": [
    "# Callbacks:"
   ]
  },
  {
   "cell_type": "markdown",
   "metadata": {},
   "source": [
    "A callback is an object that can perform actions at various stages of training (e.g. at the start or end of an epoch, before or after a single batch, etc). You can use callbacks to: Write TensorBoard logs after every batch of training to monitor your metrics. Periodically save your model to disk."
   ]
  },
  {
   "cell_type": "code",
   "execution_count": null,
   "metadata": {
    "execution": {
     "iopub.execute_input": "2022-08-03T10:41:35.956049Z",
     "iopub.status.busy": "2022-08-03T10:41:35.955081Z",
     "iopub.status.idle": "2022-08-03T10:41:35.966095Z",
     "shell.execute_reply": "2022-08-03T10:41:35.964492Z",
     "shell.execute_reply.started": "2022-08-03T10:41:35.956007Z"
    }
   },
   "outputs": [],
   "source": [
    "earlystop = EarlyStopping(patience=10)\n",
    "learning_rate_reduction = ReduceLROnPlateau(monitor='val_acc', \n",
    "                                            patience=2, \n",
    "                                            verbose=1, \n",
    "                                            factor=0.5, \n",
    "                                            min_lr=0.00001)\n",
    "callbacks = [earlystop, learning_rate_reduction]"
   ]
  },
  {
   "cell_type": "code",
   "execution_count": null,
   "metadata": {
    "_kg_hide-output": true,
    "execution": {
     "iopub.execute_input": "2022-08-03T10:41:35.968722Z",
     "iopub.status.busy": "2022-08-03T10:41:35.968289Z",
     "iopub.status.idle": "2022-08-03T11:03:40.221217Z",
     "shell.execute_reply": "2022-08-03T11:03:40.219828Z",
     "shell.execute_reply.started": "2022-08-03T10:41:35.968681Z"
    }
   },
   "outputs": [],
   "source": [
    "history = model.fit_generator(\n",
    "    train_generator, \n",
    "    epochs=12,\n",
    "    validation_data=validation_generator,\n",
    "    validation_steps=total_validate//batch_size,\n",
    "    steps_per_epoch=total_train//batch_size,\n",
    "    callbacks=callbacks,\n",
    "    verbose=1\n",
    ")"
   ]
  },
  {
   "cell_type": "markdown",
   "metadata": {},
   "source": [
    " Got a reasonable accuracy for both train and test datasets.If i only used the CNN model then ,it would be quite imposible to get this type accuracy."
   ]
  },
  {
   "cell_type": "code",
   "execution_count": null,
   "metadata": {},
   "outputs": [],
   "source": []
  },
  {
   "cell_type": "markdown",
   "metadata": {},
   "source": []
  },
  {
   "cell_type": "markdown",
   "metadata": {},
   "source": []
  }
 ],
 "metadata": {
  "kernelspec": {
   "display_name": "Python 3 (ipykernel)",
   "language": "python",
   "name": "python3"
  },
  "language_info": {
   "codemirror_mode": {
    "name": "ipython",
    "version": 3
   },
   "file_extension": ".py",
   "mimetype": "text/x-python",
   "name": "python",
   "nbconvert_exporter": "python",
   "pygments_lexer": "ipython3",
   "version": "3.9.2"
  }
 },
 "nbformat": 4,
 "nbformat_minor": 4
}
