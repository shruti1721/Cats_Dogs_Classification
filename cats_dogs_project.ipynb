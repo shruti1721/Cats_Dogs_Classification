{
 "cells": [
  {
   "cell_type": "code",
   "execution_count": 1,
   "id": "6186b9f1",
   "metadata": {},
   "outputs": [
    {
     "name": "stdout",
     "output_type": "stream",
     "text": [
      "Requirement already satisfied: tensorflow in c:\\programs\\python38\\lib\\site-packages (2.9.1)\n",
      "Requirement already satisfied: astunparse>=1.6.0 in c:\\programs\\python38\\lib\\site-packages (from tensorflow) (1.6.3)\n",
      "Requirement already satisfied: absl-py>=1.0.0 in c:\\programs\\python38\\lib\\site-packages (from tensorflow) (1.2.0)\n",
      "Requirement already satisfied: opt-einsum>=2.3.2 in c:\\programs\\python38\\lib\\site-packages (from tensorflow) (3.3.0)\n",
      "Requirement already satisfied: google-pasta>=0.1.1 in c:\\programs\\python38\\lib\\site-packages (from tensorflow) (0.2.0)\n",
      "Requirement already satisfied: setuptools in c:\\programs\\python38\\lib\\site-packages (from tensorflow) (49.2.1)\n",
      "Requirement already satisfied: keras<2.10.0,>=2.9.0rc0 in c:\\programs\\python38\\lib\\site-packages (from tensorflow) (2.9.0)\n",
      "Requirement already satisfied: libclang>=13.0.0 in c:\\programs\\python38\\lib\\site-packages (from tensorflow) (14.0.6)\n",
      "Requirement already satisfied: packaging in c:\\programs\\python38\\lib\\site-packages (from tensorflow) (21.3)\n",
      "Requirement already satisfied: keras-preprocessing>=1.1.1 in c:\\programs\\python38\\lib\\site-packages (from tensorflow) (1.1.2)\n",
      "Requirement already satisfied: tensorboard<2.10,>=2.9 in c:\\programs\\python38\\lib\\site-packages (from tensorflow) (2.9.1)\n",
      "Requirement already satisfied: flatbuffers<2,>=1.12 in c:\\programs\\python38\\lib\\site-packages (from tensorflow) (1.12)\n",
      "Requirement already satisfied: tensorflow-estimator<2.10.0,>=2.9.0rc0 in c:\\programs\\python38\\lib\\site-packages (from tensorflow) (2.9.0)\n",
      "Requirement already satisfied: typing-extensions>=3.6.6 in c:\\programs\\python38\\lib\\site-packages (from tensorflow) (4.3.0)\n",
      "Requirement already satisfied: numpy>=1.20 in c:\\programs\\python38\\lib\\site-packages (from tensorflow) (1.23.2)\n",
      "Requirement already satisfied: termcolor>=1.1.0 in c:\\programs\\python38\\lib\\site-packages (from tensorflow) (1.1.0)\n",
      "Requirement already satisfied: tensorflow-io-gcs-filesystem>=0.23.1 in c:\\programs\\python38\\lib\\site-packages (from tensorflow) (0.26.0)\n",
      "Requirement already satisfied: protobuf<3.20,>=3.9.2 in c:\\programs\\python38\\lib\\site-packages (from tensorflow) (3.19.4)\n",
      "Requirement already satisfied: wrapt>=1.11.0 in c:\\programs\\python38\\lib\\site-packages (from tensorflow) (1.14.1)\n",
      "Requirement already satisfied: gast<=0.4.0,>=0.2.1 in c:\\programs\\python38\\lib\\site-packages (from tensorflow) (0.4.0)\n",
      "Requirement already satisfied: six>=1.12.0 in c:\\programs\\python38\\lib\\site-packages (from tensorflow) (1.16.0)\n",
      "Requirement already satisfied: h5py>=2.9.0 in c:\\programs\\python38\\lib\\site-packages (from tensorflow) (3.7.0)\n",
      "Requirement already satisfied: grpcio<2.0,>=1.24.3 in c:\\programs\\python38\\lib\\site-packages (from tensorflow) (1.47.0)\n",
      "Requirement already satisfied: wheel<1.0,>=0.23.0 in c:\\programs\\python38\\lib\\site-packages (from astunparse>=1.6.0->tensorflow) (0.37.1)\n",
      "Requirement already satisfied: requests<3,>=2.21.0 in c:\\programs\\python38\\lib\\site-packages (from tensorboard<2.10,>=2.9->tensorflow) (2.28.1)\n",
      "Requirement already satisfied: tensorboard-data-server<0.7.0,>=0.6.0 in c:\\programs\\python38\\lib\\site-packages (from tensorboard<2.10,>=2.9->tensorflow) (0.6.1)\n",
      "Requirement already satisfied: tensorboard-plugin-wit>=1.6.0 in c:\\programs\\python38\\lib\\site-packages (from tensorboard<2.10,>=2.9->tensorflow) (1.8.1)\n",
      "Requirement already satisfied: google-auth<3,>=1.6.3 in c:\\programs\\python38\\lib\\site-packages (from tensorboard<2.10,>=2.9->tensorflow) (2.11.0)\n",
      "Requirement already satisfied: markdown>=2.6.8 in c:\\programs\\python38\\lib\\site-packages (from tensorboard<2.10,>=2.9->tensorflow) (3.4.1)\n",
      "Requirement already satisfied: werkzeug>=1.0.1 in c:\\programs\\python38\\lib\\site-packages (from tensorboard<2.10,>=2.9->tensorflow) (2.2.2)\n",
      "Requirement already satisfied: google-auth-oauthlib<0.5,>=0.4.1 in c:\\programs\\python38\\lib\\site-packages (from tensorboard<2.10,>=2.9->tensorflow) (0.4.6)\n",
      "Requirement already satisfied: pyparsing!=3.0.5,>=2.0.2 in c:\\programs\\python38\\lib\\site-packages (from packaging->tensorflow) (3.0.9)\n",
      "Requirement already satisfied: rsa<5,>=3.1.4 in c:\\programs\\python38\\lib\\site-packages (from google-auth<3,>=1.6.3->tensorboard<2.10,>=2.9->tensorflow) (4.9)\n",
      "Requirement already satisfied: pyasn1-modules>=0.2.1 in c:\\programs\\python38\\lib\\site-packages (from google-auth<3,>=1.6.3->tensorboard<2.10,>=2.9->tensorflow) (0.2.8)\n",
      "Requirement already satisfied: cachetools<6.0,>=2.0.0 in c:\\programs\\python38\\lib\\site-packages (from google-auth<3,>=1.6.3->tensorboard<2.10,>=2.9->tensorflow) (5.2.0)\n",
      "Requirement already satisfied: requests-oauthlib>=0.7.0 in c:\\programs\\python38\\lib\\site-packages (from google-auth-oauthlib<0.5,>=0.4.1->tensorboard<2.10,>=2.9->tensorflow) (1.3.1)\n",
      "Requirement already satisfied: importlib-metadata>=4.4 in c:\\programs\\python38\\lib\\site-packages (from markdown>=2.6.8->tensorboard<2.10,>=2.9->tensorflow) (4.12.0)\n",
      "Requirement already satisfied: urllib3<1.27,>=1.21.1 in c:\\programs\\python38\\lib\\site-packages (from requests<3,>=2.21.0->tensorboard<2.10,>=2.9->tensorflow) (1.26.12)\n",
      "Requirement already satisfied: certifi>=2017.4.17 in c:\\programs\\python38\\lib\\site-packages (from requests<3,>=2.21.0->tensorboard<2.10,>=2.9->tensorflow) (2022.6.15)\n",
      "Requirement already satisfied: charset-normalizer<3,>=2 in c:\\programs\\python38\\lib\\site-packages (from requests<3,>=2.21.0->tensorboard<2.10,>=2.9->tensorflow) (2.1.1)\n",
      "Requirement already satisfied: idna<4,>=2.5 in c:\\programs\\python38\\lib\\site-packages (from requests<3,>=2.21.0->tensorboard<2.10,>=2.9->tensorflow) (3.3)\n",
      "Requirement already satisfied: MarkupSafe>=2.1.1 in c:\\programs\\python38\\lib\\site-packages (from werkzeug>=1.0.1->tensorboard<2.10,>=2.9->tensorflow) (2.1.1)\n",
      "Requirement already satisfied: zipp>=0.5 in c:\\programs\\python38\\lib\\site-packages (from importlib-metadata>=4.4->markdown>=2.6.8->tensorboard<2.10,>=2.9->tensorflow) (3.8.1)\n",
      "Requirement already satisfied: pyasn1<0.5.0,>=0.4.6 in c:\\programs\\python38\\lib\\site-packages (from pyasn1-modules>=0.2.1->google-auth<3,>=1.6.3->tensorboard<2.10,>=2.9->tensorflow) (0.4.8)\n",
      "Requirement already satisfied: oauthlib>=3.0.0 in c:\\programs\\python38\\lib\\site-packages (from requests-oauthlib>=0.7.0->google-auth-oauthlib<0.5,>=0.4.1->tensorboard<2.10,>=2.9->tensorflow) (3.2.0)\n",
      "Note: you may need to restart the kernel to use updated packages.\n"
     ]
    }
   ],
   "source": [
    "pip install tensorflow"
   ]
  },
  {
   "cell_type": "code",
   "execution_count": 2,
   "id": "ef3a83c4",
   "metadata": {},
   "outputs": [
    {
     "name": "stdout",
     "output_type": "stream",
     "text": [
      "Requirement already satisfied: keras in c:\\programs\\python38\\lib\\site-packages (2.9.0)\n",
      "Note: you may need to restart the kernel to use updated packages.\n"
     ]
    }
   ],
   "source": [
    "pip install keras"
   ]
  },
  {
   "cell_type": "code",
   "execution_count": 3,
   "id": "fa141301",
   "metadata": {},
   "outputs": [],
   "source": [
    "import tensorflow as tf\n",
    "from keras.preprocessing.image import ImageDataGenerator"
   ]
  },
  {
   "cell_type": "code",
   "execution_count": 4,
   "id": "b94d7d8d",
   "metadata": {},
   "outputs": [
    {
     "data": {
      "text/plain": [
       "'2.9.1'"
      ]
     },
     "execution_count": 4,
     "metadata": {},
     "output_type": "execute_result"
    }
   ],
   "source": [
    "tf.__version__"
   ]
  },
  {
   "cell_type": "markdown",
   "id": "7ea0f194",
   "metadata": {},
   "source": [
    "# Part 1 - Data Preprocessing"
   ]
  },
  {
   "cell_type": "markdown",
   "id": "0c75363a",
   "metadata": {},
   "source": [
    "### Preprocessing the Training set"
   ]
  },
  {
   "cell_type": "code",
   "execution_count": 5,
   "id": "3c21a34e",
   "metadata": {},
   "outputs": [
    {
     "name": "stdout",
     "output_type": "stream",
     "text": [
      "Found 8000 images belonging to 2 classes.\n"
     ]
    }
   ],
   "source": [
    "train_datagen = ImageDataGenerator(rescale = 1./255,\n",
    "                                  shear_range = 0.2,\n",
    "                                  zoom_range = 0.2,\n",
    "                                  horizontal_flip = True)\n",
    "training_set = train_datagen.flow_from_directory('datasets/dogs_cats/training_set',\n",
    "                                          target_size = (64, 64),\n",
    "                                          batch_size = 32,\n",
    "                                          class_mode = 'binary')\n"
   ]
  },
  {
   "cell_type": "markdown",
   "id": "57d21c16",
   "metadata": {},
   "source": [
    "### Preprocessing the Test set"
   ]
  },
  {
   "cell_type": "code",
   "execution_count": 6,
   "id": "7e25c0ba",
   "metadata": {},
   "outputs": [
    {
     "name": "stdout",
     "output_type": "stream",
     "text": [
      "Found 2000 images belonging to 2 classes.\n"
     ]
    }
   ],
   "source": [
    "test_datagen = ImageDataGenerator(rescale = 1./255,\n",
    "                                 shear_range = 0.2,\n",
    "                                 zoom_range = 0.2,\n",
    "                                 horizontal_flip = True)\n",
    "test_set = test_datagen.flow_from_directory('datasets/dogs_cats/test_set',\n",
    "                                           target_size = (64, 64),\n",
    "                                           batch_size = 32,\n",
    "                                           class_mode = 'binary')\n"
   ]
  },
  {
   "cell_type": "markdown",
   "id": "29551f1a",
   "metadata": {},
   "source": [
    "# part 2 - Building the CNN"
   ]
  },
  {
   "cell_type": "markdown",
   "id": "c953f12e",
   "metadata": {},
   "source": [
    "### Initialising the CNN"
   ]
  },
  {
   "cell_type": "code",
   "execution_count": 7,
   "id": "dd58b935",
   "metadata": {},
   "outputs": [],
   "source": [
    "cnn = tf.keras.models.Sequential()"
   ]
  },
  {
   "cell_type": "markdown",
   "id": "3a53cebc",
   "metadata": {},
   "source": [
    "### Step 1- Convolution"
   ]
  },
  {
   "cell_type": "code",
   "execution_count": 8,
   "id": "10ac56e5",
   "metadata": {},
   "outputs": [],
   "source": [
    "cnn.add(tf.keras.layers.Conv2D(filters=32, kernel_size=3, activation='relu', input_shape=(64, 64, 3)))"
   ]
  },
  {
   "cell_type": "markdown",
   "id": "21be81d6",
   "metadata": {},
   "source": [
    "### Step 2- Pooling"
   ]
  },
  {
   "cell_type": "code",
   "execution_count": 9,
   "id": "2eda847d",
   "metadata": {},
   "outputs": [],
   "source": [
    "cnn.add(tf.keras.layers.MaxPool2D(pool_size=2, strides=2))"
   ]
  },
  {
   "cell_type": "markdown",
   "id": "b4b5e83e",
   "metadata": {},
   "source": [
    "### Adding a second convolutional layer"
   ]
  },
  {
   "cell_type": "code",
   "execution_count": 10,
   "id": "633a7d9f",
   "metadata": {},
   "outputs": [],
   "source": [
    "cnn.add(tf.keras.layers.Conv2D(filters=32, kernel_size=3, activation='relu'))\n",
    "cnn.add(tf.keras.layers.MaxPool2D(pool_size=2, strides=2))"
   ]
  },
  {
   "cell_type": "markdown",
   "id": "14d2e7bf",
   "metadata": {},
   "source": [
    "### Step 3- Flattening"
   ]
  },
  {
   "cell_type": "code",
   "execution_count": 11,
   "id": "61677491",
   "metadata": {},
   "outputs": [],
   "source": [
    "cnn.add(tf.keras.layers.Flatten())"
   ]
  },
  {
   "cell_type": "markdown",
   "id": "5e3a902e",
   "metadata": {},
   "source": [
    "### Step - 4 Full Connection``"
   ]
  },
  {
   "cell_type": "code",
   "execution_count": 12,
   "id": "53406596",
   "metadata": {},
   "outputs": [],
   "source": [
    "cnn.add(tf.keras.layers.Dense(units=128, activation='relu'))"
   ]
  },
  {
   "cell_type": "markdown",
   "id": "f0b1fac8",
   "metadata": {},
   "source": [
    "### Step - 5 Output Layer"
   ]
  },
  {
   "cell_type": "code",
   "execution_count": 13,
   "id": "fb63f03c",
   "metadata": {},
   "outputs": [],
   "source": [
    "cnn.add(tf.keras.layers.Dense(units=1, activation='sigmoid'))"
   ]
  },
  {
   "cell_type": "markdown",
   "id": "b763ecf4",
   "metadata": {},
   "source": [
    "# Part 3 - Training the CNN"
   ]
  },
  {
   "cell_type": "markdown",
   "id": "b0098369",
   "metadata": {},
   "source": [
    "### Compiling the CNN"
   ]
  },
  {
   "cell_type": "code",
   "execution_count": 14,
   "id": "69f85d3e",
   "metadata": {},
   "outputs": [],
   "source": [
    "cnn.compile(optimizer='adam', loss='binary_crossentropy', metrics = ['accuracy'])"
   ]
  },
  {
   "cell_type": "markdown",
   "id": "08ec0d37",
   "metadata": {},
   "source": [
    "### Training the CNN on the Training set and evaluating on the Test set"
   ]
  },
  {
   "cell_type": "code",
   "execution_count": 15,
   "id": "676b9c3a",
   "metadata": {},
   "outputs": [
    {
     "name": "stdout",
     "output_type": "stream",
     "text": [
      "Epoch 1/25\n",
      "250/250 [==============================] - 63s 248ms/step - loss: 0.6461 - accuracy: 0.6189 - val_loss: 0.5982 - val_accuracy: 0.6850\n",
      "Epoch 2/25\n",
      "250/250 [==============================] - 48s 193ms/step - loss: 0.5772 - accuracy: 0.6974 - val_loss: 0.5695 - val_accuracy: 0.7005\n",
      "Epoch 3/25\n",
      "250/250 [==============================] - 52s 210ms/step - loss: 0.5408 - accuracy: 0.7212 - val_loss: 0.5293 - val_accuracy: 0.7345\n",
      "Epoch 4/25\n",
      "250/250 [==============================] - 52s 209ms/step - loss: 0.5205 - accuracy: 0.7359 - val_loss: 0.5448 - val_accuracy: 0.7285\n",
      "Epoch 5/25\n",
      "250/250 [==============================] - 52s 208ms/step - loss: 0.4960 - accuracy: 0.7588 - val_loss: 0.5115 - val_accuracy: 0.7560\n",
      "Epoch 6/25\n",
      "250/250 [==============================] - 52s 206ms/step - loss: 0.4782 - accuracy: 0.7670 - val_loss: 0.4950 - val_accuracy: 0.7595\n",
      "Epoch 7/25\n",
      "250/250 [==============================] - 53s 214ms/step - loss: 0.4731 - accuracy: 0.7728 - val_loss: 0.4982 - val_accuracy: 0.7640\n",
      "Epoch 8/25\n",
      "250/250 [==============================] - 50s 199ms/step - loss: 0.4557 - accuracy: 0.7807 - val_loss: 0.4708 - val_accuracy: 0.7860\n",
      "Epoch 9/25\n",
      "250/250 [==============================] - 53s 211ms/step - loss: 0.4344 - accuracy: 0.7922 - val_loss: 0.4642 - val_accuracy: 0.7945\n",
      "Epoch 10/25\n",
      "250/250 [==============================] - 57s 226ms/step - loss: 0.4325 - accuracy: 0.7976 - val_loss: 0.4854 - val_accuracy: 0.7715\n",
      "Epoch 11/25\n",
      "250/250 [==============================] - 58s 230ms/step - loss: 0.4159 - accuracy: 0.8112 - val_loss: 0.4479 - val_accuracy: 0.7875\n",
      "Epoch 12/25\n",
      "250/250 [==============================] - 62s 249ms/step - loss: 0.3940 - accuracy: 0.8170 - val_loss: 0.4759 - val_accuracy: 0.7725\n",
      "Epoch 13/25\n",
      "250/250 [==============================] - 57s 227ms/step - loss: 0.3969 - accuracy: 0.8204 - val_loss: 0.4731 - val_accuracy: 0.7775\n",
      "Epoch 14/25\n",
      "250/250 [==============================] - 56s 224ms/step - loss: 0.3883 - accuracy: 0.8216 - val_loss: 0.4345 - val_accuracy: 0.7890\n",
      "Epoch 15/25\n",
      "250/250 [==============================] - 56s 222ms/step - loss: 0.3652 - accuracy: 0.8349 - val_loss: 0.4369 - val_accuracy: 0.8115\n",
      "Epoch 16/25\n",
      "250/250 [==============================] - 54s 216ms/step - loss: 0.3549 - accuracy: 0.8425 - val_loss: 0.4694 - val_accuracy: 0.7900\n",
      "Epoch 17/25\n",
      "250/250 [==============================] - 56s 222ms/step - loss: 0.3415 - accuracy: 0.8475 - val_loss: 0.5012 - val_accuracy: 0.7885\n",
      "Epoch 18/25\n",
      "250/250 [==============================] - 54s 216ms/step - loss: 0.3356 - accuracy: 0.8491 - val_loss: 0.4433 - val_accuracy: 0.8075\n",
      "Epoch 19/25\n",
      "250/250 [==============================] - 53s 214ms/step - loss: 0.3234 - accuracy: 0.8564 - val_loss: 0.4528 - val_accuracy: 0.8035\n",
      "Epoch 20/25\n",
      "250/250 [==============================] - 55s 220ms/step - loss: 0.3058 - accuracy: 0.8658 - val_loss: 0.4440 - val_accuracy: 0.8070\n",
      "Epoch 21/25\n",
      "250/250 [==============================] - 58s 230ms/step - loss: 0.2955 - accuracy: 0.8726 - val_loss: 0.4637 - val_accuracy: 0.8015\n",
      "Epoch 22/25\n",
      "250/250 [==============================] - 60s 242ms/step - loss: 0.2936 - accuracy: 0.8721 - val_loss: 0.5149 - val_accuracy: 0.7880\n",
      "Epoch 23/25\n",
      "250/250 [==============================] - 59s 237ms/step - loss: 0.2768 - accuracy: 0.8838 - val_loss: 0.4652 - val_accuracy: 0.8025\n",
      "Epoch 24/25\n",
      "250/250 [==============================] - 60s 239ms/step - loss: 0.2611 - accuracy: 0.8900 - val_loss: 0.4729 - val_accuracy: 0.8015\n",
      "Epoch 25/25\n",
      "250/250 [==============================] - 61s 242ms/step - loss: 0.2517 - accuracy: 0.8928 - val_loss: 0.4859 - val_accuracy: 0.7895\n"
     ]
    },
    {
     "data": {
      "text/plain": [
       "<keras.callbacks.History at 0x24aab361d30>"
      ]
     },
     "execution_count": 15,
     "metadata": {},
     "output_type": "execute_result"
    }
   ],
   "source": [
    "cnn.fit(x = training_set, validation_data = test_set, epochs = 25)"
   ]
  },
  {
   "cell_type": "markdown",
   "id": "0f413939",
   "metadata": {},
   "source": [
    "# Part 4 - Making a single prediction"
   ]
  },
  {
   "cell_type": "code",
   "execution_count": 46,
   "id": "e119a1f0",
   "metadata": {},
   "outputs": [
    {
     "name": "stdout",
     "output_type": "stream",
     "text": [
      "1/1 [==============================] - 0s 32ms/step\n"
     ]
    }
   ],
   "source": [
    "import numpy as np\n",
    "import keras\n",
    "from keras.preprocessing import image\n",
    "test_image = tf.keras.utils.load_img('datasets/dogs_cats/single_prediction/cat_dog11.jpg', target_size=(64, 64))\n",
    "test_image = tf.keras.utils.img_to_array(test_image)\n",
    "test_image = np.expand_dims(test_image, axis = 0)\n",
    "result = cnn.predict(test_image)\n",
    "training_set.class_indices\n",
    "if result[0][0] == 1:\n",
    "    prediction = 'dog'\n",
    "else:\n",
    "    prediction = 'cat'"
   ]
  },
  {
   "cell_type": "code",
   "execution_count": 47,
   "id": "fb82d764",
   "metadata": {},
   "outputs": [
    {
     "name": "stdout",
     "output_type": "stream",
     "text": [
      "cat\n"
     ]
    }
   ],
   "source": [
    "print(prediction)"
   ]
  },
  {
   "cell_type": "code",
   "execution_count": 48,
   "id": "189aa8bb",
   "metadata": {},
   "outputs": [
    {
     "name": "stdout",
     "output_type": "stream",
     "text": [
      "[[0.]]\n"
     ]
    }
   ],
   "source": [
    "print(result)"
   ]
  },
  {
   "cell_type": "code",
   "execution_count": null,
   "id": "af64ccf7",
   "metadata": {},
   "outputs": [],
   "source": []
  }
 ],
 "metadata": {
  "kernelspec": {
   "display_name": "Python 3 (ipykernel)",
   "language": "python",
   "name": "python3"
  },
  "language_info": {
   "codemirror_mode": {
    "name": "ipython",
    "version": 3
   },
   "file_extension": ".py",
   "mimetype": "text/x-python",
   "name": "python",
   "nbconvert_exporter": "python",
   "pygments_lexer": "ipython3",
   "version": "3.8.6"
  }
 },
 "nbformat": 4,
 "nbformat_minor": 5
}
